{
 "cells": [
  {
   "cell_type": "code",
   "execution_count": 4,
   "metadata": {},
   "outputs": [],
   "source": [
    "import pandas as pd\n",
    "import numpy as np\n",
    "import matplotlib.pyplot as plt\n",
    "import seaborn as sns\n",
    "import joblib\n",
    "from tqdm import tqdm"
   ]
  },
  {
   "cell_type": "code",
   "execution_count": 5,
   "metadata": {},
   "outputs": [],
   "source": [
    "from LeNet import LeNet\n",
    "from data_process import load_data,data_convert\n",
    "from AdaGrad import AdaGrad"
   ]
  },
  {
   "cell_type": "code",
   "execution_count": 6,
   "metadata": {},
   "outputs": [],
   "source": [
    "mnist_dir = \"./mnist_data/\"\n",
    "train_data_dir = \"train-images.idx3-ubyte\"\n",
    "train_label_dir = \"train-labels.idx1-ubyte\"\n",
    "test_data_dir = \"t10k-images.idx3-ubyte\"\n",
    "test_label_dir = \"t10k-labels.idx1-ubyte\""
   ]
  },
  {
   "cell_type": "code",
   "execution_count": 7,
   "metadata": {},
   "outputs": [
    {
     "name": "stdout",
     "output_type": "stream",
     "text": [
      "Loading MNIST data from files...\n",
      "./mnist_data/train-images.idx3-ubyte\n",
      "Load images from ./mnist_data/train-images.idx3-ubyte, number: 60000, data shape: (60000, 784)\n",
      "Load images from ./mnist_data/train-labels.idx1-ubyte, number: 60000, data shape: (60000, 1)\n",
      "Load images from ./mnist_data/t10k-images.idx3-ubyte, number: 10000, data shape: (10000, 784)\n",
      "Load images from ./mnist_data/t10k-labels.idx1-ubyte, number: 10000, data shape: (10000, 1)\n",
      "Got data. \n"
     ]
    }
   ],
   "source": [
    "train_images, train_labels, test_images, test_labels = load_data(mnist_dir, train_data_dir, train_label_dir, test_data_dir, test_label_dir)\n",
    "print(\"Got data. \") "
   ]
  },
  {
   "cell_type": "code",
   "execution_count": 8,
   "metadata": {},
   "outputs": [],
   "source": [
    "def show_faults(fault_list):\n",
    "    for i in fault_list:\n",
    "        img = np.reshape(test_images[i, :], (28, 28))\n",
    "        label = np.argmax(test_labels [i, :])\n",
    "        plt.matshow(img, cmap = plt.get_cmap('gray'))\n",
    "        plt.figure(figsize=(1,1))\n",
    "        plt.show()"
   ]
  },
  {
   "cell_type": "code",
   "execution_count": 9,
   "metadata": {},
   "outputs": [],
   "source": [
    "train_images = train_images.astype(float)\n",
    "x,y = data_convert(train_images, train_labels,60000,10)\n",
    "x_val , y_val = data_convert(test_images,test_labels,10000,10)"
   ]
  },
  {
   "cell_type": "code",
   "execution_count": 10,
   "metadata": {},
   "outputs": [],
   "source": [
    "def shuffle_batch(batch_size):\n",
    "\n",
    "    index = np.random.randint(0,len(x),batch_size)\n",
    "    return x[index],y.T[index].T"
   ]
  },
  {
   "cell_type": "code",
   "execution_count": 17,
   "metadata": {},
   "outputs": [],
   "source": [
    "Loss = []\n",
    "Acc = []\n",
    "Alpha = []"
   ]
  },
  {
   "cell_type": "code",
   "execution_count": 12,
   "metadata": {},
   "outputs": [],
   "source": [
    "def softmax(y_pred,y):\n",
    "    batch_size ,_ = y_pred.shape\n",
    "    #y_pred = y_pred / y_pred.max(axis=1)[:,None] #防止溢出\n",
    "    #y_pred+=1e-5\n",
    "    y_pred = np.exp(y_pred)\n",
    "    y_sum = y_pred.sum(axis = 1)\n",
    "    y_pred = y_pred/y_sum[:,None]\n",
    "    loss = -np.log(y_pred).T * y\n",
    "    loss = loss.sum()/batch_size\n",
    "    grad = y_pred - y.T\n",
    "    grad /= batch_size\n",
    "    acc = (y_pred.argmax(axis=1) == y.argmax(axis=0)).mean()\n",
    "    return loss,grad,acc"
   ]
  },
  {
   "cell_type": "code",
   "execution_count": 13,
   "metadata": {},
   "outputs": [],
   "source": [
    "def cal_accuracy(model,x_val,y_val):\n",
    "    y_pred = model.fit(x_val,x_val.shape[0])\n",
    "    _,_,acc = softmax(y_pred,y_val)\n",
    "    \n",
    "    return acc"
   ]
  },
  {
   "cell_type": "code",
   "execution_count": 14,
   "metadata": {},
   "outputs": [],
   "source": [
    "from model import LeNet5\n",
    "import dataloader\n",
    "from optimizer import Adam"
   ]
  },
  {
   "cell_type": "code",
   "execution_count": 15,
   "metadata": {},
   "outputs": [],
   "source": [
    "def softmax_loss(y_pred, y):\n",
    "    # y_pred: (N, C)\n",
    "    # y: (N, 1)\n",
    "    N = y_pred.shape[0]\n",
    "    ex = np.exp(y_pred)\n",
    "    sumx = np.sum(ex, axis=1)\n",
    "    loss = np.mean(np.log(sumx)-y_pred[range(N), list(y)])\n",
    "    grad = ex/sumx.reshape(N, 1)\n",
    "    grad[range(N), list(y)] -= 1\n",
    "    grad /= N\n",
    "    acc = np.mean(np.argmax(ex/sumx.reshape(N, 1), axis=1) == y.reshape(1, y.shape[0]))\n",
    "    return loss, grad, acc"
   ]
  },
  {
   "cell_type": "code",
   "execution_count": 18,
   "metadata": {},
   "outputs": [
    {
     "name": "stderr",
     "output_type": "stream",
     "text": [
      "100%|██████████████████████████████████████| 234/234 [04:45<00:00,  1.22s/it, acc=0.957, loss=0.153]\n",
      "100%|██████████████████████████████████████| 234/234 [04:37<00:00,  1.19s/it, acc=0.961, loss=0.133]\n",
      "100%|█████████████████████████████████████| 234/234 [04:32<00:00,  1.17s/it, acc=0.977, loss=0.0763]\n",
      "100%|█████████████████████████████████████| 234/234 [04:36<00:00,  1.18s/it, acc=0.992, loss=0.0335]\n",
      "100%|█████████████████████████████████████| 234/234 [04:34<00:00,  1.17s/it, acc=0.984, loss=0.0325]\n",
      "100%|████████████████████████████████████████| 234/234 [04:59<00:00,  1.28s/it, acc=1, loss=0.00766]\n",
      "100%|█████████████████████████████████████| 234/234 [04:53<00:00,  1.25s/it, acc=0.992, loss=0.0541]\n",
      "100%|█████████████████████████████████████| 234/234 [04:33<00:00,  1.17s/it, acc=0.992, loss=0.0294]\n",
      "100%|███████████████████████████████████████| 234/234 [04:29<00:00,  1.15s/it, acc=0.98, loss=0.061]\n",
      "100%|████████████████████████████████████| 234/234 [04:31<00:00,  1.16s/it, acc=0.996, loss=0.00886]\n"
     ]
    }
   ],
   "source": [
    "batch_size = 256\n",
    "epochs = 10\n",
    "lr = 1e-3\n",
    "data = dataloader.get_mnist_data()\n",
    "model = LeNet5()\n",
    "optimizer = Adam(model.get_params(), lr)\n",
    "\n",
    "for e in range(epochs):\n",
    "        # add tqdm\n",
    "    pbar = tqdm(range(0, int(x.shape[0]/batch_size)), ncols=100)\n",
    "    for i in pbar:\n",
    "        X, y = dataloader.get_batch(data[\"X_train\"], data[\"y_train\"], batch_size)\n",
    "        y_pred = model.forward(X)\n",
    "        loss, grad, acc = softmax_loss(y_pred, y)\n",
    "        # X_train,y_train = shuffle_batch(batch_size)\n",
    "        # y_pred = model.forward(X_train.reshape(batch_size,1,28,28))\n",
    "\n",
    "        # loss, grad, acc = softmax(y_pred, y_train)\n",
    "        Loss.append(loss)\n",
    "        Acc.append(acc)\n",
    "        model.backward(grad)\n",
    "        #model.update(0.5)\n",
    "        optimizer.step()\n",
    "        pbar.set_postfix(loss=loss, acc=acc)"
   ]
  },
  {
   "cell_type": "code",
   "execution_count": 11,
   "metadata": {},
   "outputs": [
    {
     "name": "stderr",
     "output_type": "stream",
     "text": [
      "  6%|██▏                                     | 13/234 [00:24<07:04,  1.92s/it, acc=0.367, loss=1.88]\n"
     ]
    },
    {
     "ename": "KeyboardInterrupt",
     "evalue": "",
     "output_type": "error",
     "traceback": [
      "\u001b[1;31m---------------------------------------------------------------------------\u001b[0m",
      "\u001b[1;31mKeyboardInterrupt\u001b[0m                         Traceback (most recent call last)",
      "Cell \u001b[1;32mIn[11], line 13\u001b[0m\n\u001b[0;32m     11\u001b[0m Loss\u001b[38;5;241m.\u001b[39mappend(loss)\n\u001b[0;32m     12\u001b[0m Acc\u001b[38;5;241m.\u001b[39mappend(acc)\n\u001b[1;32m---> 13\u001b[0m \u001b[43mmodel\u001b[49m\u001b[38;5;241;43m.\u001b[39;49m\u001b[43mback_prop\u001b[49m\u001b[43m(\u001b[49m\u001b[43mgrad\u001b[49m\u001b[43m)\u001b[49m\n\u001b[0;32m     14\u001b[0m model\u001b[38;5;241m.\u001b[39mupdate()\n\u001b[0;32m     15\u001b[0m Alpha\u001b[38;5;241m.\u001b[39mappend(model\u001b[38;5;241m.\u001b[39moptimizer\u001b[38;5;241m.\u001b[39malpha)\n",
      "File \u001b[1;32md:\\CODE\\machine-learning\\LeNet5\\LeNet.py:40\u001b[0m, in \u001b[0;36mLeNet.back_prop\u001b[1;34m(self, grad)\u001b[0m\n\u001b[0;32m     38\u001b[0m grad \u001b[38;5;241m=\u001b[39m \u001b[38;5;28mself\u001b[39m\u001b[38;5;241m.\u001b[39mPool2\u001b[38;5;241m.\u001b[39mbackprop(grad)\n\u001b[0;32m     39\u001b[0m grad \u001b[38;5;241m=\u001b[39m \u001b[38;5;28mself\u001b[39m\u001b[38;5;241m.\u001b[39mRelu2\u001b[38;5;241m.\u001b[39mbackprop(grad)\n\u001b[1;32m---> 40\u001b[0m grad \u001b[38;5;241m=\u001b[39m \u001b[38;5;28;43mself\u001b[39;49m\u001b[38;5;241;43m.\u001b[39;49m\u001b[43mConv2\u001b[49m\u001b[38;5;241;43m.\u001b[39;49m\u001b[43mbackprop\u001b[49m\u001b[43m(\u001b[49m\u001b[43mgrad\u001b[49m\u001b[43m)\u001b[49m\n\u001b[0;32m     41\u001b[0m grad \u001b[38;5;241m=\u001b[39m \u001b[38;5;28mself\u001b[39m\u001b[38;5;241m.\u001b[39mPool1\u001b[38;5;241m.\u001b[39mbackprop(grad)\n\u001b[0;32m     42\u001b[0m grad \u001b[38;5;241m=\u001b[39m \u001b[38;5;28mself\u001b[39m\u001b[38;5;241m.\u001b[39mRelu1\u001b[38;5;241m.\u001b[39mbackprop(grad)\n",
      "File \u001b[1;32md:\\CODE\\machine-learning\\LeNet5\\layers.py:84\u001b[0m, in \u001b[0;36mConv.backprop\u001b[1;34m(self, grad)\u001b[0m\n\u001b[0;32m     82\u001b[0m reverse_kernel  \u001b[38;5;241m=\u001b[39m np\u001b[38;5;241m.\u001b[39mflip(reverse_kernel,axis\u001b[38;5;241m=\u001b[39m(\u001b[38;5;241m2\u001b[39m,\u001b[38;5;241m3\u001b[39m))\n\u001b[0;32m     83\u001b[0m \u001b[38;5;66;03m#卷积层输入的梯度实际上是输出的梯度经过padding后，与180°翻转的卷积核进行卷积的结果\u001b[39;00m\n\u001b[1;32m---> 84\u001b[0m grad_next \u001b[38;5;241m=\u001b[39m  \u001b[38;5;28;43mself\u001b[39;49m\u001b[38;5;241;43m.\u001b[39;49m\u001b[43mconv2d\u001b[49m\u001b[43m(\u001b[49m\u001b[43mgrad\u001b[49m\u001b[43m,\u001b[49m\u001b[43mreverse_kernel\u001b[49m\u001b[43m,\u001b[49m\u001b[38;5;28;43mself\u001b[39;49m\u001b[38;5;241;43m.\u001b[39;49m\u001b[43mfilter_size\u001b[49m\u001b[38;5;241;43m-\u001b[39;49m\u001b[38;5;241;43m1\u001b[39;49m\u001b[43m,\u001b[49m\u001b[43mBias\u001b[49m\u001b[38;5;241;43m=\u001b[39;49m\u001b[38;5;28;43;01mFalse\u001b[39;49;00m\u001b[43m)\u001b[49m\n\u001b[0;32m     85\u001b[0m \u001b[38;5;66;03m#计算卷积核的梯度\u001b[39;00m\n\u001b[0;32m     86\u001b[0m \u001b[38;5;28mself\u001b[39m\u001b[38;5;241m.\u001b[39mW_grad \u001b[38;5;241m=\u001b[39m np\u001b[38;5;241m.\u001b[39mzeros_like(\u001b[38;5;28mself\u001b[39m\u001b[38;5;241m.\u001b[39mWeight)\n",
      "File \u001b[1;32md:\\CODE\\machine-learning\\LeNet5\\layers.py:60\u001b[0m, in \u001b[0;36mConv.conv2d\u001b[1;34m(self, input, kernel, padding, Bias)\u001b[0m\n\u001b[0;32m     58\u001b[0m \u001b[38;5;66;03m#选取input的这一块区域，并进行reshape\u001b[39;00m\n\u001b[0;32m     59\u001b[0m input_region \u001b[38;5;241m=\u001b[39m \u001b[38;5;28minput\u001b[39m[:, :, h_start:h_end, w_start:w_end]\u001b[38;5;241m.\u001b[39mreshape((N, \u001b[38;5;241m1\u001b[39m, C, filter_size, filter_size))\n\u001b[1;32m---> 60\u001b[0m output_matrix[:, :, h, w] \u001b[38;5;241m+\u001b[39m\u001b[38;5;241m=\u001b[39m \u001b[43mnp\u001b[49m\u001b[38;5;241;43m.\u001b[39;49m\u001b[43msum\u001b[49m\u001b[43m(\u001b[49m\u001b[43minput_region\u001b[49m\u001b[43m \u001b[49m\u001b[38;5;241;43m*\u001b[39;49m\u001b[43m \u001b[49m\u001b[43mkernel\u001b[49m\u001b[43m,\u001b[49m\u001b[43m \u001b[49m\u001b[43maxis\u001b[49m\u001b[38;5;241;43m=\u001b[39;49m\u001b[43m(\u001b[49m\u001b[38;5;241;43m2\u001b[39;49m\u001b[43m,\u001b[49m\u001b[43m \u001b[49m\u001b[38;5;241;43m3\u001b[39;49m\u001b[43m,\u001b[49m\u001b[43m \u001b[49m\u001b[38;5;241;43m4\u001b[39;49m\u001b[43m)\u001b[49m\u001b[43m)\u001b[49m \u001b[38;5;66;03m#通过numpy矩阵运算进行卷积\u001b[39;00m\n\u001b[0;32m     61\u001b[0m \u001b[38;5;28;01mif\u001b[39;00m Bias \u001b[38;5;129;01mis\u001b[39;00m \u001b[38;5;28;01mTrue\u001b[39;00m: \u001b[38;5;66;03m#是否加上偏置参数Bias\u001b[39;00m\n\u001b[0;32m     62\u001b[0m     output_matrix[:, :, h, w] \u001b[38;5;241m+\u001b[39m\u001b[38;5;241m=\u001b[39m \u001b[38;5;28mself\u001b[39m\u001b[38;5;241m.\u001b[39mBias\n",
      "File \u001b[1;32m<__array_function__ internals>:180\u001b[0m, in \u001b[0;36msum\u001b[1;34m(*args, **kwargs)\u001b[0m\n",
      "File \u001b[1;32m~\\AppData\\Local\\Packages\\PythonSoftwareFoundation.Python.3.10_qbz5n2kfra8p0\\LocalCache\\local-packages\\Python310\\site-packages\\numpy\\core\\fromnumeric.py:2183\u001b[0m, in \u001b[0;36m_sum_dispatcher\u001b[1;34m(a, axis, dtype, out, keepdims, initial, where)\u001b[0m\n\u001b[0;32m   2113\u001b[0m \u001b[38;5;250m    \u001b[39m\u001b[38;5;124;03m\"\"\"\u001b[39;00m\n\u001b[0;32m   2114\u001b[0m \u001b[38;5;124;03m    Clip (limit) the values in an array.\u001b[39;00m\n\u001b[0;32m   2115\u001b[0m \n\u001b[1;32m   (...)\u001b[0m\n\u001b[0;32m   2178\u001b[0m \n\u001b[0;32m   2179\u001b[0m \u001b[38;5;124;03m    \"\"\"\u001b[39;00m\n\u001b[0;32m   2180\u001b[0m     \u001b[38;5;28;01mreturn\u001b[39;00m _wrapfunc(a, \u001b[38;5;124m'\u001b[39m\u001b[38;5;124mclip\u001b[39m\u001b[38;5;124m'\u001b[39m, a_min, a_max, out\u001b[38;5;241m=\u001b[39mout, \u001b[38;5;241m*\u001b[39m\u001b[38;5;241m*\u001b[39mkwargs)\n\u001b[1;32m-> 2183\u001b[0m \u001b[38;5;28;01mdef\u001b[39;00m \u001b[38;5;21m_sum_dispatcher\u001b[39m(a, axis\u001b[38;5;241m=\u001b[39m\u001b[38;5;28;01mNone\u001b[39;00m, dtype\u001b[38;5;241m=\u001b[39m\u001b[38;5;28;01mNone\u001b[39;00m, out\u001b[38;5;241m=\u001b[39m\u001b[38;5;28;01mNone\u001b[39;00m, keepdims\u001b[38;5;241m=\u001b[39m\u001b[38;5;28;01mNone\u001b[39;00m,\n\u001b[0;32m   2184\u001b[0m                     initial\u001b[38;5;241m=\u001b[39m\u001b[38;5;28;01mNone\u001b[39;00m, where\u001b[38;5;241m=\u001b[39m\u001b[38;5;28;01mNone\u001b[39;00m):\n\u001b[0;32m   2185\u001b[0m     \u001b[38;5;28;01mreturn\u001b[39;00m (a, out)\n\u001b[0;32m   2188\u001b[0m \u001b[38;5;129m@array_function_dispatch\u001b[39m(_sum_dispatcher)\n\u001b[0;32m   2189\u001b[0m \u001b[38;5;28;01mdef\u001b[39;00m \u001b[38;5;21msum\u001b[39m(a, axis\u001b[38;5;241m=\u001b[39m\u001b[38;5;28;01mNone\u001b[39;00m, dtype\u001b[38;5;241m=\u001b[39m\u001b[38;5;28;01mNone\u001b[39;00m, out\u001b[38;5;241m=\u001b[39m\u001b[38;5;28;01mNone\u001b[39;00m, keepdims\u001b[38;5;241m=\u001b[39mnp\u001b[38;5;241m.\u001b[39m_NoValue,\n\u001b[0;32m   2190\u001b[0m         initial\u001b[38;5;241m=\u001b[39mnp\u001b[38;5;241m.\u001b[39m_NoValue, where\u001b[38;5;241m=\u001b[39mnp\u001b[38;5;241m.\u001b[39m_NoValue):\n",
      "\u001b[1;31mKeyboardInterrupt\u001b[0m: "
     ]
    }
   ],
   "source": [
    "batch_size = 256\n",
    "model = LeNet()\n",
    "optimizer = AdaGrad(model,1e-3)\n",
    "for e in range(1):\n",
    "    pbar = tqdm(range(0, int(x.shape[0]/batch_size)), ncols=100)\n",
    "    for i in pbar:\n",
    "        X_train,y_train = shuffle_batch(batch_size)\n",
    "        y_pred = model.fit(X_train,batch_size)\n",
    "\n",
    "        loss, grad, acc = softmax(y_pred, y_train)\n",
    "        Loss.append(loss)\n",
    "        Acc.append(acc)\n",
    "        model.back_prop(grad)\n",
    "        model.update()\n",
    "        Alpha.append(model.optimizer.alpha)\n",
    "        pbar.set_postfix(loss=loss, acc=acc)"
   ]
  },
  {
   "cell_type": "code",
   "execution_count": 13,
   "metadata": {},
   "outputs": [
    {
     "name": "stdout",
     "output_type": "stream",
     "text": [
      "accuracy: 93.75%\n",
      "Finished test. \n"
     ]
    }
   ],
   "source": [
    "accuracy  = cal_accuracy(model,x_val, y_val)\n",
    "print(\"accuracy: {:.2%}\".format(accuracy))\n",
    "print(\"Finished test. \") "
   ]
  },
  {
   "cell_type": "code",
   "execution_count": 19,
   "metadata": {},
   "outputs": [
    {
     "data": {
      "image/png": "[encoded data removed]",
      "text/plain": [
       "<Figure size 640x480 with 2 Axes>"
      ]
     },
     "metadata": {},
     "output_type": "display_data"
    }
   ],
   "source": [
    "ax = plt.subplot()\n",
    "sns.lineplot(Loss,ax=ax)\n",
    "ax2 = ax.twinx()\n",
    "sns.lineplot(Acc,color = 'orange',alpha = 0.8)\n",
    "\n",
    "ax.legend(labels = ['Loss'],loc = 'upper left')\n",
    "ax2.legend(labels = ['Accuracy'],loc = 'upper right')\n",
    "plt.show()\n"
   ]
  },
  {
   "cell_type": "code",
   "execution_count": null,
   "metadata": {},
   "outputs": [],
   "source": []
  }
 ],
 "metadata": {
  "kernelspec": {
   "display_name": "Python 3",
   "language": "python",
   "name": "python3"
  },
  "language_info": {
   "codemirror_mode": {
    "name": "ipython",
    "version": 3
   },
   "file_extension": ".py",
   "mimetype": "text/x-python",
   "name": "python",
   "nbconvert_exporter": "python",
   "pygments_lexer": "ipython3",
   "version": "3.10.11"
  }
 },
 "nbformat": 4,
 "nbformat_minor": 2
}

{
 "cells": [
  {
   "cell_type": "code",
   "execution_count": 1,
   "metadata": {},
   "outputs": [],
   "source": [
    "import pandas as pd\n",
    "import numpy as np\n",
    "import matplotlib.pyplot as plt\n",
    "import seaborn as sns\n",
    "import joblib\n",
    "from tqdm import tqdm"
   ]
  },
  {
   "cell_type": "code",
   "execution_count": 2,
   "metadata": {},
   "outputs": [],
   "source": [
    "import numpy as np\n",
    "import struct\n",
    "import os\n",
    "\n",
    "# Load the MNIST data for this exercise\n",
    "# mat_data contain the training and testing images or labels.\n",
    "#   Each matrix has size [m,n] for images where:\n",
    "#      m is the number of examples.\n",
    "#      n is the number of pixels in each image.\n",
    "#   or Each matrix has size [m,1] for labels contain the corresponding labels (0 to 9) where:\n",
    "#      m is the number of examples.\n",
    "def load_mnist(file_dir, is_images='True'):\n",
    "    # Read binary data\n",
    "    bin_file = open(file_dir, 'rb')\n",
    "    bin_data = bin_file.read()\n",
    "    bin_file.close()\n",
    "    # Analysis file header\n",
    "    if is_images:\n",
    "        # Read images\n",
    "        fmt_header = '>iiii'\n",
    "        magic, num_images, num_rows, num_cols = struct.unpack_from(fmt_header, bin_data, 0)\n",
    "    else:\n",
    "        # Read labels\n",
    "        fmt_header = '>ii'\n",
    "        magic, num_images = struct.unpack_from(fmt_header, bin_data, 0)\n",
    "        num_rows, num_cols = 1, 1\n",
    "    data_size = num_images * num_rows * num_cols\n",
    "    mat_data = struct.unpack_from('>' + str(data_size) + 'B', bin_data, struct.calcsize(fmt_header))\n",
    "    mat_data = np.reshape(mat_data, [num_images, num_rows * num_cols])\n",
    "    print('Load images from %s, number: %d, data shape: %s' % (file_dir, num_images, str(mat_data.shape)))\n",
    "    return mat_data\n",
    "\n",
    "# tranfer the image from gray to binary and get the one-hot style labels\n",
    "def data_convert(x, y, m, k):\n",
    "    x[x<=40]=0\n",
    "    x[x>40]=1\n",
    "    ont_hot_y = np.zeros((m,k))    #(60000,10)\n",
    "    for t in np.arange(0,m):\n",
    "        ont_hot_y[t,y[t]]=1\n",
    "    ont_hot_y=ont_hot_y.T #(10,60000)\n",
    "    return x, ont_hot_y\n",
    "\n",
    "# call the load_mnist function to get the images and labels of training set and testing set\n",
    "def load_data(mnist_dir, train_data_dir, train_label_dir, test_data_dir, test_label_dir):\n",
    "    print('Loading MNIST data from files...')\n",
    "    \n",
    "    print(os.path.join(mnist_dir, train_data_dir))\n",
    "    train_images = load_mnist(os.path.join(mnist_dir, train_data_dir), True)\n",
    "    train_labels = load_mnist(os.path.join(mnist_dir, train_label_dir), False)\n",
    "    test_images = load_mnist(os.path.join(mnist_dir, test_data_dir), True)\n",
    "    test_labels = load_mnist(os.path.join(mnist_dir, test_label_dir), False)\n",
    "    return train_images, train_labels, test_images, test_labels\n"
   ]
  },
  {
   "cell_type": "code",
   "execution_count": 3,
   "metadata": {},
   "outputs": [],
   "source": [
    "from LeNet import LeNet\n",
    "from model import LeNet5\n",
    "\n",
    "model = LeNet5()\n",
    "model1 = LeNet()"
   ]
  },
  {
   "cell_type": "code",
   "execution_count": 37,
   "metadata": {},
   "outputs": [],
   "source": [
    "test = np.random.normal(size=(1,1,28,28))"
   ]
  },
  {
   "cell_type": "code",
   "execution_count": 38,
   "metadata": {},
   "outputs": [],
   "source": [
    "a = Conv(1,6,5)"
   ]
  },
  {
   "cell_type": "code",
   "execution_count": 39,
   "metadata": {},
   "outputs": [
    {
     "ename": "TypeError",
     "evalue": "Conv.conv2d() missing 1 required positional argument: 'kernel'",
     "output_type": "error",
     "traceback": [
      "\u001b[1;31m---------------------------------------------------------------------------\u001b[0m",
      "\u001b[1;31mTypeError\u001b[0m                                 Traceback (most recent call last)",
      "Cell \u001b[1;32mIn[39], line 1\u001b[0m\n\u001b[1;32m----> 1\u001b[0m \u001b[43ma\u001b[49m\u001b[38;5;241;43m.\u001b[39;49m\u001b[43mforward\u001b[49m\u001b[43m(\u001b[49m\u001b[43mtest\u001b[49m\u001b[43m)\u001b[49m\n",
      "Cell \u001b[1;32mIn[36], line 56\u001b[0m, in \u001b[0;36mConv.forward\u001b[1;34m(self, X)\u001b[0m\n\u001b[0;32m     52\u001b[0m \u001b[38;5;28;01mif\u001b[39;00m \u001b[38;5;28mself\u001b[39m\u001b[38;5;241m.\u001b[39mpadding\u001b[38;5;241m!=\u001b[39m \u001b[38;5;241m0\u001b[39m:\n\u001b[0;32m     53\u001b[0m     X\u001b[38;5;241m=\u001b[39m np\u001b[38;5;241m.\u001b[39mpad(X, ((\u001b[38;5;241m0\u001b[39m,\u001b[38;5;241m0\u001b[39m),(\u001b[38;5;241m0\u001b[39m,\u001b[38;5;241m0\u001b[39m),(\u001b[38;5;28mself\u001b[39m\u001b[38;5;241m.\u001b[39mpadding, \u001b[38;5;28mself\u001b[39m\u001b[38;5;241m.\u001b[39mpadding), (\u001b[38;5;28mself\u001b[39m\u001b[38;5;241m.\u001b[39mpadding, \u001b[38;5;28mself\u001b[39m\u001b[38;5;241m.\u001b[39mpadding)),\n\u001b[0;32m     54\u001b[0m                              \u001b[38;5;124m'\u001b[39m\u001b[38;5;124mconstant\u001b[39m\u001b[38;5;124m'\u001b[39m,constant_values \u001b[38;5;241m=\u001b[39m (\u001b[38;5;241m0\u001b[39m,\u001b[38;5;241m0\u001b[39m))\n\u001b[1;32m---> 56\u001b[0m \u001b[38;5;28;01mreturn\u001b[39;00m \u001b[38;5;28;43mself\u001b[39;49m\u001b[38;5;241;43m.\u001b[39;49m\u001b[43mconv2d\u001b[49m\u001b[43m(\u001b[49m\u001b[43mX\u001b[49m\u001b[43m)\u001b[49m\n",
      "\u001b[1;31mTypeError\u001b[0m: Conv.conv2d() missing 1 required positional argument: 'kernel'"
     ]
    }
   ],
   "source": [
    "a.forward(test)"
   ]
  },
  {
   "cell_type": "code",
   "execution_count": 4,
   "metadata": {},
   "outputs": [],
   "source": [
    "mnist_dir = \"./mnist_data/\"\n",
    "train_data_dir = \"train-images.idx3-ubyte\"\n",
    "train_label_dir = \"train-labels.idx1-ubyte\"\n",
    "test_data_dir = \"t10k-images.idx3-ubyte\"\n",
    "test_label_dir = \"t10k-labels.idx1-ubyte\""
   ]
  },
  {
   "cell_type": "code",
   "execution_count": 5,
   "metadata": {},
   "outputs": [
    {
     "name": "stdout",
     "output_type": "stream",
     "text": [
      "Loading MNIST data from files...\n",
      "./mnist_data/train-images.idx3-ubyte\n",
      "Load images from ./mnist_data/train-images.idx3-ubyte, number: 60000, data shape: (60000, 784)\n",
      "Load images from ./mnist_data/train-labels.idx1-ubyte, number: 60000, data shape: (60000, 1)\n",
      "Load images from ./mnist_data/t10k-images.idx3-ubyte, number: 10000, data shape: (10000, 784)\n",
      "Load images from ./mnist_data/t10k-labels.idx1-ubyte, number: 10000, data shape: (10000, 1)\n",
      "Got data. \n"
     ]
    }
   ],
   "source": [
    "train_images, train_labels, test_images, test_labels = load_data(mnist_dir, train_data_dir, train_label_dir, test_data_dir, test_label_dir)\n",
    "print(\"Got data. \") "
   ]
  },
  {
   "cell_type": "code",
   "execution_count": null,
   "metadata": {},
   "outputs": [],
   "source": [
    "for i in range(2):\n",
    "    img = np.reshape(train_images [i, :], (28, 28))\n",
    "    label = np.argmax(train_images [i, :])\n",
    "    plt.matshow(img, cmap = plt.get_cmap('gray'))\n",
    "    plt.figure(figsize=(1,1))\n",
    "    plt.show()\n"
   ]
  },
  {
   "cell_type": "code",
   "execution_count": 40,
   "metadata": {},
   "outputs": [],
   "source": [
    "class Relu:\n",
    "    def __init__(self):\n",
    "        self.x = None\n",
    "    \n",
    "    def forward(self, x):\n",
    "        self.x = x\n",
    "        return np.maximum(0, x)\n",
    "    \n",
    "    def backprop(self,grad):\n",
    "        return np.where(self.x > 0, 1, 0) * grad"
   ]
  },
  {
   "cell_type": "code",
   "execution_count": 69,
   "metadata": {},
   "outputs": [],
   "source": [
    "class Conv:\n",
    "    def __init__(self, in_channels, out_channels, filter_size, stride=1, padding=0):\n",
    "        \"\"\"\n",
    "        params: in_channels: the number of channels of the input image\n",
    "                out_channels: the number of channels of the output image\n",
    "                filter_size:(x,y) the size of the filter\n",
    "                stride: the stride of the filter\n",
    "                padding: the padding of the filter\n",
    "        \"\"\"\n",
    "        self.input = None\n",
    "        self.output = None\n",
    "        self.in_channels = in_channels\n",
    "        self.out_channels = out_channels\n",
    "        self.filter_size = filter_size\n",
    "        self.stride = stride\n",
    "        self.padding = padding\n",
    "        self.Weight = np.random.normal(scale=1, size=(out_channels,in_channels,filter_size,filter_size))\n",
    "        #第一个维度是输出通道数，对应着有这么多个卷积核；第二个维度是输入通道数，这是因为卷积核需要负责讲in个channel的输入变成out个channel的输出\n",
    "        self.W_grad = np.zeros_like(self.Weight)\n",
    "        self.Bias = np.zeros(out_channels) #每个卷积核有一个偏置参数\n",
    "        self.B_grad = np.zeros_like(self.Bias)\n",
    "    \n",
    "    def conv2d(self,input,kernel,padding,Bias = True):\n",
    "        N,C,H,W = input.shape\n",
    "        if padding!= 0:\n",
    "            input= np.pad(input, ((0,0),(0,0),(padding, padding), (padding, padding)),\n",
    "                                     'constant',constant_values = (0,0))\n",
    "        num_kernels,_,filter_size,_ = kernel.shape\n",
    "        # 计算输出特征图的宽度和高度\n",
    "        output_W = (W + 2*padding - filter_size) // self.stride + 1\n",
    "        output_W = int(output_W)\n",
    "        output_H = (H + 2*padding - filter_size) // self.stride + 1\n",
    "        output_H = int(output_H)\n",
    "\n",
    "        # 初始化输出矩阵\n",
    "        output_matrix = np.zeros((N, num_kernels, output_H, output_W))\n",
    "        for h in range(output_H):\n",
    "            for w in range(output_W):\n",
    "                h_start = h * self.stride\n",
    "                h_end = h_start + filter_size\n",
    "                w_start = w * self.stride\n",
    "                w_end = w_start + filter_size\n",
    "                input_region = input[:, :, h_start:h_end, w_start:w_end].reshape((N, 1, self.in_channels, filter_size, filter_size))\n",
    "                output_matrix[:, :, h, w] = np.sum(input_region * kernel, axis=(2, 3, 4))\n",
    "                if Bias is True:\n",
    "                    output_matrix[:, :, h, w] += self.Bias\n",
    "        return output_matrix\n",
    "    \n",
    "                    \n",
    "    def forward(self, X):\n",
    "        N,C,H,W = X.shape  \n",
    "        # N for Batch, C for Channels, W for Width, H for Height\n",
    "        assert(C == self.in_channels)\n",
    "        self.input = X.copy()\n",
    "        self.output = self.conv2d(X,self.Weight,self.padding)\n",
    "        return self.output\n",
    "    \n",
    "    \n",
    "    def backprop(self,grad):\n",
    "        N, C, H, W = self.input.shape\n",
    "        _, _, output_H, output_W = grad.shape\n",
    "        reverse_kernel = self.Weight.transpose((1,0,2,3))\n",
    "        reverse_kernel  = np.flip(reverse_kernel,axis=(2,3))\n",
    "        grad_next =  self.conv2d(grad,reverse_kernel,self.filter_size-1,Bias=False)\n",
    "        self.W_grad = np.zeros_like(self.Weight)\n",
    "        for h in range(output_H):\n",
    "            for w in range(output_W):\n",
    "                tmp_back_grad = grad[:, :, h, w].T.reshape((self.out_channels, 1, 1, 1, N))\n",
    "                tmp_x = self.input[:, :, h * self.stride:h * self.stride + self.filter_size, w * self.stride:w * self.stride + self.filter_size].transpose((1, 2, 3, 0))\n",
    "                self.W_grad += np.sum(tmp_back_grad * tmp_x, axis=4)\n",
    "\n",
    "        self.B_grad = np.sum(grad, axis=(0, 2, 3))\n",
    "\n",
    "        return grad_next\n",
    "    \n",
    "    \n",
    "    def update_params(self, alpha):\n",
    "        self.Weight -= alpha * self.W_grad\n",
    "        self.Bias -= alpha * self.B_grad\n",
    "        "
   ]
  },
  {
   "cell_type": "code",
   "execution_count": 43,
   "metadata": {},
   "outputs": [],
   "source": [
    "a = np.random.normal(size=(1,1,28,28))"
   ]
  },
  {
   "cell_type": "code",
   "execution_count": 70,
   "metadata": {},
   "outputs": [],
   "source": [
    "b = Conv(1,6,5)"
   ]
  },
  {
   "cell_type": "code",
   "execution_count": null,
   "metadata": {},
   "outputs": [],
   "source": []
  },
  {
   "cell_type": "code",
   "execution_count": 72,
   "metadata": {},
   "outputs": [
    {
     "data": {
      "text/plain": [
       "array([[[[ True,  True,  True, ...,  True,  True,  True],\n",
       "         [ True,  True,  True, ...,  True,  True,  True],\n",
       "         [ True,  True,  True, ...,  True,  True,  True],\n",
       "         ...,\n",
       "         [ True,  True,  True, ...,  True,  True,  True],\n",
       "         [ True,  True,  True, ...,  True,  True,  True],\n",
       "         [ True,  True,  True, ...,  True,  True,  True]],\n",
       "\n",
       "        [[ True,  True,  True, ...,  True,  True,  True],\n",
       "         [ True,  True,  True, ...,  True,  True,  True],\n",
       "         [ True,  True,  True, ...,  True,  True,  True],\n",
       "         ...,\n",
       "         [ True,  True,  True, ...,  True,  True,  True],\n",
       "         [ True,  True,  True, ...,  True,  True,  True],\n",
       "         [ True,  True,  True, ...,  True,  True,  True]],\n",
       "\n",
       "        [[ True,  True,  True, ...,  True,  True,  True],\n",
       "         [ True,  True,  True, ...,  True,  True,  True],\n",
       "         [ True,  True,  True, ...,  True,  True,  True],\n",
       "         ...,\n",
       "         [ True,  True,  True, ...,  True,  True,  True],\n",
       "         [ True,  True,  True, ...,  True,  True,  True],\n",
       "         [ True,  True,  True, ...,  True,  True,  True]],\n",
       "\n",
       "        [[ True,  True,  True, ...,  True,  True,  True],\n",
       "         [ True,  True,  True, ...,  True,  True,  True],\n",
       "         [ True,  True,  True, ...,  True,  True,  True],\n",
       "         ...,\n",
       "         [ True,  True,  True, ...,  True,  True,  True],\n",
       "         [ True,  True,  True, ...,  True,  True,  True],\n",
       "         [ True,  True,  True, ...,  True,  True,  True]],\n",
       "\n",
       "        [[ True,  True,  True, ...,  True,  True,  True],\n",
       "         [ True,  True,  True, ...,  True,  True,  True],\n",
       "         [ True,  True,  True, ...,  True,  True,  True],\n",
       "         ...,\n",
       "         [ True,  True,  True, ...,  True,  True,  True],\n",
       "         [ True,  True,  True, ...,  True,  True,  True],\n",
       "         [ True,  True,  True, ...,  True,  True,  True]],\n",
       "\n",
       "        [[ True,  True,  True, ...,  True,  True,  True],\n",
       "         [ True,  True,  True, ...,  True,  True,  True],\n",
       "         [ True,  True,  True, ...,  True,  True,  True],\n",
       "         ...,\n",
       "         [ True,  True,  True, ...,  True,  True,  True],\n",
       "         [ True,  True,  True, ...,  True,  True,  True],\n",
       "         [ True,  True,  True, ...,  True,  True,  True]]]])"
      ]
     },
     "execution_count": 72,
     "metadata": {},
     "output_type": "execute_result"
    }
   ],
   "source": [
    "b.forward(a) == b.forward1(a)"
   ]
  },
  {
   "cell_type": "code",
   "execution_count": 68,
   "metadata": {},
   "outputs": [
    {
     "data": {
      "text/plain": [
       "array([[[[-5.41934138e+00, -6.16516581e+00,  4.68784192e+00, ...,\n",
       "           1.44542758e+00,  5.98582228e-01, -4.38124030e+00],\n",
       "         [-4.42667188e+00, -2.16845807e+00,  7.21180638e-01, ...,\n",
       "           3.80599048e+00, -5.28166068e+00,  1.97568536e+00],\n",
       "         [ 3.99127564e+00,  5.89520639e+00, -7.09542100e-01, ...,\n",
       "          -3.06690332e+00, -6.62753130e+00, -5.73501170e+00],\n",
       "         ...,\n",
       "         [ 2.47267156e+00, -6.37388209e+00,  7.16148801e+00, ...,\n",
       "           1.22034149e+01, -3.42501237e+00,  4.01261293e+00],\n",
       "         [-7.41248380e+00, -1.83466029e-01, -7.31782129e+00, ...,\n",
       "           8.94719624e+00, -8.13719368e+00,  1.01133808e+01],\n",
       "         [-5.31921758e+00,  3.53231372e+00, -8.14025954e+00, ...,\n",
       "          -9.72576497e+00,  8.16103446e+00,  1.19593904e-01]],\n",
       "\n",
       "        [[-1.13918624e+00, -4.45870321e-01, -8.56330417e+00, ...,\n",
       "          -1.91534743e-01, -4.93611111e+00,  7.88504712e+00],\n",
       "         [ 8.33577642e+00,  1.03483981e+01,  2.78805904e+00, ...,\n",
       "          -7.98600078e+00,  8.92910888e+00,  4.17483289e-01],\n",
       "         [ 1.32854389e+00, -8.55003714e+00, -9.21209165e-01, ...,\n",
       "          -3.69179309e+00,  4.86620909e+00,  1.01366153e+01],\n",
       "         ...,\n",
       "         [ 2.91509967e+00,  3.43053515e+00, -5.05116181e+00, ...,\n",
       "          -6.46176473e+00, -4.11433398e+00,  6.99120620e+00],\n",
       "         [ 1.79435992e+00, -3.92934453e+00, -6.09644363e-03, ...,\n",
       "           2.51650480e+00,  6.46203015e+00, -9.43506766e-01],\n",
       "         [-1.22628591e+00, -1.12604208e+01,  4.13848883e-01, ...,\n",
       "           9.18070109e-01, -3.18644394e+00,  4.55113058e+00]],\n",
       "\n",
       "        [[ 7.56027851e-02,  3.74545535e+00,  2.50756690e+00, ...,\n",
       "           1.72027654e+00, -4.46415639e+00, -4.82826402e+00],\n",
       "         [ 6.39941966e+00,  6.13233257e-01,  2.05916015e-01, ...,\n",
       "          -3.21503532e+00,  4.63025850e+00,  1.71045269e+00],\n",
       "         [ 6.16439301e+00, -2.57174295e+00,  8.19162952e-01, ...,\n",
       "           7.48705512e-01, -1.58862827e+00,  7.18835784e+00],\n",
       "         ...,\n",
       "         [ 6.02564236e-01, -2.93249715e-01, -7.83078369e+00, ...,\n",
       "          -1.40670814e+00, -1.44521509e-01, -5.17255168e+00],\n",
       "         [ 9.55225489e+00,  1.63800052e+00,  1.51934113e+00, ...,\n",
       "          -1.81898188e+00,  2.04827119e+00, -5.82420920e+00],\n",
       "         [ 5.51071260e+00,  6.48074961e-01,  6.14919940e-01, ...,\n",
       "           5.32719536e-01, -8.01844254e+00,  3.26170796e+00]],\n",
       "\n",
       "        [[ 8.05255227e+00, -2.30961116e+00,  8.98267921e-02, ...,\n",
       "           9.10872458e+00,  3.15270060e+00, -1.14186323e+00],\n",
       "         [ 6.37828297e+00, -5.66980285e+00, -2.57381741e+00, ...,\n",
       "          -7.19308063e-01,  5.86373746e+00, -5.05009278e-01],\n",
       "         [-1.45830486e+00, -9.21859317e-01, -6.04139383e+00, ...,\n",
       "           1.20978697e+01,  1.95514970e+00,  9.07790442e+00],\n",
       "         ...,\n",
       "         [-2.20803011e+00, -5.04241639e+00,  9.04903033e+00, ...,\n",
       "          -1.37929101e+00, -3.06148410e+00, -4.35822004e+00],\n",
       "         [ 7.69166751e+00,  5.86061736e+00, -2.38325253e+00, ...,\n",
       "           3.16683488e+00, -3.55497560e+00, -3.44198856e+00],\n",
       "         [ 1.16500774e+00,  4.00535471e+00, -6.98772370e+00, ...,\n",
       "          -6.76158223e+00,  2.00384510e+00, -5.13812490e+00]],\n",
       "\n",
       "        [[ 4.61872121e+00, -5.54836857e-01, -8.53776794e-01, ...,\n",
       "          -8.73456851e+00,  2.44553045e+00, -5.26343218e+00],\n",
       "         [-1.58077184e+00, -1.48844157e+00,  9.50399085e+00, ...,\n",
       "           7.41174653e+00, -1.63488318e+00, -7.00289799e+00],\n",
       "         [-9.43782363e-01,  5.89344668e+00, -2.99738714e-01, ...,\n",
       "           5.55636383e+00, -7.54339445e+00, -4.65800430e+00],\n",
       "         ...,\n",
       "         [-6.98299286e+00, -5.56645197e-01,  3.42591868e+00, ...,\n",
       "          -2.72342304e+00,  2.69334681e+00, -6.46658103e-01],\n",
       "         [-5.76763331e+00, -1.78698707e+00, -3.57632384e+00, ...,\n",
       "          -3.48183337e+00, -4.78848235e+00,  2.21928473e-01],\n",
       "         [ 1.93079284e+00,  8.01315669e+00,  6.92399754e+00, ...,\n",
       "           2.30336764e+00,  1.49385888e-01,  5.15646667e+00]],\n",
       "\n",
       "        [[-2.39293940e+00, -4.55310067e+00, -8.83876324e-01, ...,\n",
       "           1.99058709e+00, -2.39790758e+00, -1.80785231e+00],\n",
       "         [ 7.98534043e-01, -3.92006598e-01,  8.47431205e+00, ...,\n",
       "          -3.88450676e+00,  1.02004321e+00,  2.78975492e+00],\n",
       "         [ 9.39025517e+00,  3.57966434e+00, -5.89417367e-01, ...,\n",
       "          -9.42905511e+00, -3.82914568e+00, -2.49563940e+00],\n",
       "         ...,\n",
       "         [-1.41086008e+00, -1.22961888e+00, -6.23123238e+00, ...,\n",
       "           3.42148340e+00,  3.19605776e+00,  5.25855605e-02],\n",
       "         [ 5.77162943e+00, -7.86964513e+00, -2.57394635e+00, ...,\n",
       "           3.64387705e+00,  1.05406069e+00,  3.87625105e+00],\n",
       "         [-2.73147071e+00,  2.41781238e+00,  7.18781084e+00, ...,\n",
       "           1.12520577e+00,  2.48289198e+00,  3.79534961e+00]]]])"
      ]
     },
     "execution_count": 68,
     "metadata": {},
     "output_type": "execute_result"
    }
   ],
   "source": [
    "b.forward1(a)"
   ]
  },
  {
   "cell_type": "code",
   "execution_count": 584,
   "metadata": {},
   "outputs": [],
   "source": [
    "class MaxPool:\n",
    "    def __init__(self,pool_size=None):\n",
    "        if pool_size is None:\n",
    "            pool_size = 2\n",
    "        self.pool_size = pool_size\n",
    "        self.output = None\n",
    "        self.input = None\n",
    "        self.mask = None\n",
    "    \n",
    "    def forward(self, X):\n",
    "        N,C,W,H = X.shape \n",
    "        self.input = X.copy()\n",
    "        output_h = H // self.pool_size\n",
    "        output_w = W // self.pool_size\n",
    "        self.output = np.zeros((N,C,output_h,output_w))\n",
    "        self.mask = np.zeros_like(X)  # 初始化最大值位置的掩码\n",
    "        for i in range(output_h):\n",
    "            for j in range(output_w):\n",
    "                pool_window = X[:, :, i * self.pool_size:(i + 1) * self.pool_size, j * self.pool_size:(j + 1) * self.pool_size]\n",
    "                self.mask[:, :, i * self.pool_size:(i + 1) * self.pool_size, j * self.pool_size:(j + 1) * self.pool_size] = (pool_window == np.max(pool_window, axis=(2, 3), keepdims=True))\n",
    "                self.output[:,:,i,j] = np.max(X[:,:, i*self.pool_size:(i+1)*self.pool_size, j*self.pool_size:(j+1)*self.pool_size], axis=(2,3))\n",
    "        return self.output\n",
    "    \n",
    "    def backprop(self, back_grad):\n",
    "        # return back_grad[:, :, :, :, np.newaxis, np.newaxis] * self.mask\n",
    "        N, C, H,W = back_grad.shape\n",
    "        grad_next = np.zeros_like(self.input)\n",
    "\n",
    "        for i in range(H):\n",
    "            for j in range(W):\n",
    "                # 获取在最大池化层前向传播时的最大值位置\n",
    "                grad_next[:, :, i*self.pool_size:(i+1)*self.pool_size, j*self.pool_size:(j+1)*self.pool_size]= \\\n",
    "                self.mask[:,:, i*self.pool_size:(i+1)*self.pool_size, j*self.pool_size:(j+1)*self.pool_size]* back_grad[:, :, i, j][:, :, None, None]\n",
    "\n",
    "        return grad_next\n",
    "        "
   ]
  },
  {
   "cell_type": "code",
   "execution_count": 586,
   "metadata": {},
   "outputs": [],
   "source": [
    "class Linear:\n",
    "    def __init__(self,input_size,output_size) :\n",
    "        self.Weight = np.random.normal(scale=1, size=(input_size, output_size))\n",
    "        self.W_grad = None\n",
    "        self.Bias = np.zeros(output_size)\n",
    "        self.B_grad = None\n",
    "        self.input = None\n",
    "        \n",
    "    \n",
    "    def forward(self,X):\n",
    "        self.input = X.copy()\n",
    "        return np.dot(X,self.Weight) + self.Bias\n",
    "    \n",
    "    def backprop(self,back_grad):\n",
    "        self.W_grad = np.dot(self.input.T, back_grad)\n",
    "        self.B_grad = np.sum(back_grad, axis=0)\n",
    "\n",
    "        # 计算输入的梯度，用于传递给上一层\n",
    "        grad_next = np.dot(back_grad, self.Weight.T)\n",
    "\n",
    "        return grad_next\n",
    "        \n",
    "    \n",
    "    def update_params(self, alpha):\n",
    "        # 使用梯度下降更新权重和偏置\n",
    "        self.Weight -= alpha * self.W_grad\n",
    "        self.Bias -= alpha * self.B_grad\n",
    "        "
   ]
  },
  {
   "cell_type": "code",
   "execution_count": 592,
   "metadata": {},
   "outputs": [],
   "source": [
    "class LeNet:\n",
    "    def __init__(self):\n",
    "        self.Conv1 = Conv(1,6,5)    # 卷积层1，输入通道为1，6个5*5的卷积核,输出N*6*24*24\n",
    "        self.Relu1 = Relu() \n",
    "        self.Pool1 = MaxPool(2)     # 池化层1，2*2大小的最大池化,输出N*6*12*12\n",
    "        self.Conv2 = Conv(6,16,5)   # 卷积层2，6输入通道，16个5*5的卷积核,输出N*16*8*8\n",
    "        self.Relu2 = Relu()\n",
    "        self.Pool2 = MaxPool(2)     # 池化层2，2*2大小的最大池化，输出N*16*4*4\n",
    "        self.Fc1 = Linear(16*4*4,120)   # 全连接层1，16*4*4的输入，120个神经元\n",
    "        self.Relu3 = Relu()\n",
    "        self.Fc2 = Linear(120,84)       # 全连接层2，120输入，84个神经元\n",
    "        self.Relu4 = Relu()\n",
    "        self.Output = Linear(84,10)     # 输出层，84输入，10个输出\n",
    "\n",
    "    def fit(self,x,batch_size):\n",
    "        x = x.reshape((batch_size,1,28,28))\n",
    "        x = self.Pool1.forward(self.Relu1.forward(self.Conv1.forward(x)))\n",
    "        x = self.Pool2.forward(self.Relu2.forward(self.Conv2.forward(x)))\n",
    "        x = x.reshape(batch_size,-1)\n",
    "        x = self.Relu3.forward(self.Fc1.forward(x))\n",
    "        x = self.Relu4.forward(self.Fc2.forward(x))\n",
    "        x = self.Output.forward(x)\n",
    "        return x\n",
    "    \n",
    "    def back_prop(self,grad):\n",
    "        #print(1,grad.sum())\n",
    "        grad = self.Output.backprop(grad)\n",
    "        #print(2,grad.sum())\n",
    "        grad = self.Relu4.backprop(grad)\n",
    "        #print(3,grad.sum())\n",
    "        grad = self.Fc2.backprop(grad)\n",
    "        #print(4,grad.sum())\n",
    "        grad = self.Relu3.backprop(grad)\n",
    "        #print(5,grad.sum())\n",
    "        grad = self.Fc1.backprop(grad)\n",
    "        #print(6,grad.sum())\n",
    "        grad = grad.reshape(grad.shape[0],16,4,4)\n",
    "        grad = self.Pool2.backprop(grad)\n",
    "        #print(7,grad.sum())\n",
    "        grad = self.Relu2.backprop(grad)\n",
    "        #print(8,grad.sum())\n",
    "        grad = self.Conv2.backprop(grad)\n",
    "        #print(9,grad.sum())\n",
    "        grad = self.Pool1.backprop(grad)\n",
    "        #print(10,grad.sum())\n",
    "        grad = self.Relu1.backprop(grad)\n",
    "        #print(grad.sum())\n",
    "        grad = self.Conv1.backprop(grad)\n",
    "        #print(grad.sum())\n",
    "\n",
    "    def update(self,alpha):\n",
    "        self.Output.update_params(alpha)\n",
    "        self.Fc2.update_params(alpha)\n",
    "        self.Fc1.update_params(alpha)\n",
    "        self.Conv2.update_params(alpha)\n",
    "        self.Conv1.update_params(alpha)\n",
    "    \n",
    "    def get_params(self):\n",
    "        return [self.Conv1.Weight, self.Conv1.Bias, self.Conv2.Weight, self.Conv2.Bias, self.Fc1.Weight, self.Fc1.Bias, \n",
    "                self.Fc2.Weight, self.Fc2.Bias, self.Output.Weight, self.Output.Bias]\n",
    "\n",
    "    def set_params(self, params):\n",
    "        self.Conv1.Weight = params[0]\n",
    "        self.Conv1.Bias = params[1]\n",
    "        self.Conv2.Weight = params[2]\n",
    "        self.Conv2.Bias = params[3]\n",
    "        self.Fc1.Weight = params[4]\n",
    "        self.Fc1.Bias = params[5]\n",
    "        self.Fc2.Weight = params[6]\n",
    "        self.Fc2.Bias = params[7]\n",
    "        self.Output.Weight = params[8]\n",
    "        self.Output.Bias = params[9]\n"
   ]
  },
  {
   "cell_type": "code",
   "execution_count": 605,
   "metadata": {},
   "outputs": [],
   "source": [
    "from model import LeNet5"
   ]
  },
  {
   "cell_type": "code",
   "execution_count": 606,
   "metadata": {},
   "outputs": [],
   "source": [
    "model = LeNet5()"
   ]
  },
  {
   "cell_type": "code",
   "execution_count": 8,
   "metadata": {},
   "outputs": [
    {
     "data": {
      "text/plain": [
       "array([[ 3.81404400e-11, -2.37234934e-11, -4.91745721e-12,\n",
       "         2.28259650e-11, -8.64045514e-13,  8.00566744e-12,\n",
       "         6.03567807e-14,  4.20152268e-11, -2.87800620e-11,\n",
       "        -2.08701756e-11]])"
      ]
     },
     "execution_count": 8,
     "metadata": {},
     "output_type": "execute_result"
    }
   ],
   "source": [
    "model.forward(x[1].reshape(1,1,28,28))"
   ]
  },
  {
   "cell_type": "code",
   "execution_count": 10,
   "metadata": {},
   "outputs": [
    {
     "data": {
      "text/plain": [
       "array([[ 3.81404400e-11, -2.37234934e-11, -4.91745721e-12,\n",
       "         2.28259650e-11, -8.64045514e-13,  8.00566744e-12,\n",
       "         6.03567807e-14,  4.20152268e-11, -2.87800620e-11,\n",
       "        -2.08701756e-11]])"
      ]
     },
     "execution_count": 10,
     "metadata": {},
     "output_type": "execute_result"
    }
   ],
   "source": [
    "model1.fit(x[1],1)"
   ]
  },
  {
   "cell_type": "code",
   "execution_count": 11,
   "metadata": {},
   "outputs": [],
   "source": [
    "def softmax(y_pred,y):\n",
    "    batch_size ,_ = y_pred.shape\n",
    "    y_pred = y_pred / y_pred.max(axis=1)[:,None] #防止溢出\n",
    "    y_pred = np.exp(y_pred)\n",
    "    y_sum = y_pred.sum(axis = 1)\n",
    "    y_pred = y_pred/y_sum[:,None]\n",
    "    loss = -np.log(y_pred).T * y\n",
    "    loss = loss.sum()/batch_size\n",
    "    grad = y_pred - y.T\n",
    "    return loss,grad,y_pred"
   ]
  },
  {
   "cell_type": "code",
   "execution_count": 14,
   "metadata": {},
   "outputs": [],
   "source": [
    "loss,grad,y_pred = softmax(t,y.T[1])"
   ]
  },
  {
   "cell_type": "code",
   "execution_count": 15,
   "metadata": {},
   "outputs": [],
   "source": [
    "model.backward(grad)"
   ]
  },
  {
   "cell_type": "code",
   "execution_count": 29,
   "metadata": {},
   "outputs": [
    {
     "data": {
      "text/plain": [
       "5.327823343409133e-09"
      ]
     },
     "execution_count": 29,
     "metadata": {},
     "output_type": "execute_result"
    }
   ],
   "source": [
    "(model.conv1.W['grad'] - model1.Conv1.W_grad).sum()"
   ]
  },
  {
   "cell_type": "code",
   "execution_count": 27,
   "metadata": {},
   "outputs": [
    {
     "data": {
      "text/plain": [
       "array([[[[-1.22502720e-09, -1.73214161e-09, -1.15539599e-09,\n",
       "          -1.07133327e-09, -9.31249718e-10],\n",
       "         [-1.31408023e-09, -1.53573719e-09, -1.73652196e-09,\n",
       "          -1.87546635e-09, -7.99641708e-10],\n",
       "         [-1.49131644e-09, -1.11743224e-09, -1.73763816e-09,\n",
       "          -1.00624426e-09, -2.48166321e-10],\n",
       "         [-1.04192977e-09, -6.66840874e-10, -2.48128432e-10,\n",
       "          -1.22048931e-09,  1.51851126e-10],\n",
       "         [ 4.24930277e-10,  6.76333302e-10, -2.57448187e-11,\n",
       "           2.16812417e-10, -1.32809398e-10]]],\n",
       "\n",
       "\n",
       "       [[[-1.57758730e-09, -1.92809391e-09, -2.85020775e-09,\n",
       "          -2.28323365e-09, -1.12391636e-09],\n",
       "         [-1.73838534e-09, -2.64434623e-09, -3.07336198e-09,\n",
       "          -1.02564789e-09, -1.66584582e-10],\n",
       "         [-1.84580698e-09, -1.61343339e-09, -2.35056536e-09,\n",
       "          -2.20845994e-10,  1.84900211e-09],\n",
       "         [-1.40295927e-09, -1.28144245e-09, -1.70415394e-09,\n",
       "           1.56384184e-09,  2.11178317e-09],\n",
       "         [-1.01276555e-09, -1.59218454e-09,  1.19336681e-10,\n",
       "           2.09782980e-09,  2.60204404e-09]]],\n",
       "\n",
       "\n",
       "       [[[ 5.97992723e-10,  1.12886355e-09,  2.86728506e-09,\n",
       "           1.72252448e-09,  8.27698421e-10],\n",
       "         [ 1.81927318e-10,  1.58068386e-09,  1.49824036e-09,\n",
       "           9.28564961e-10,  4.17296990e-10],\n",
       "         [ 1.25523554e-09,  1.48972054e-09,  1.01889523e-09,\n",
       "          -9.10476568e-11, -5.43733778e-10],\n",
       "         [ 8.30231373e-10,  6.86811444e-10, -1.87421764e-10,\n",
       "          -7.30127683e-10, -9.53693121e-10],\n",
       "         [ 1.90537181e-10, -4.57571714e-10, -1.37405464e-10,\n",
       "          -3.43729052e-10, -5.81526702e-10]]],\n",
       "\n",
       "\n",
       "       [[[-1.64607221e-09, -2.46882193e-09, -2.53750892e-09,\n",
       "          -1.57125194e-09, -1.00062591e-09],\n",
       "         [-2.86540861e-09, -2.63105947e-09, -1.61076087e-09,\n",
       "          -8.08816690e-10,  5.78387279e-11],\n",
       "         [-1.70559255e-09, -2.64434295e-09, -1.62847201e-09,\n",
       "          -8.26852314e-10, -6.76289243e-11],\n",
       "         [-1.37898192e-09, -2.82234490e-09, -1.35033020e-09,\n",
       "          -9.98145924e-10, -9.03709674e-10],\n",
       "         [-1.06622097e-09, -2.22594188e-09, -1.75975129e-09,\n",
       "          -1.58139396e-09, -8.40722513e-10]]],\n",
       "\n",
       "\n",
       "       [[[-4.94217499e-10, -4.76389131e-11, -1.88243328e-10,\n",
       "          -1.73829465e-10,  5.21186873e-10],\n",
       "         [-4.94217499e-10,  0.00000000e+00, -1.21254080e-10,\n",
       "          -2.84569777e-10, -2.26530742e-10],\n",
       "         [ 0.00000000e+00,  0.00000000e+00, -1.21254080e-10,\n",
       "          -6.20940335e-10,  5.84304447e-11],\n",
       "         [-4.75893602e-11, -4.75893602e-11, -4.72562051e-10,\n",
       "          -1.33775178e-09,  3.07100241e-11],\n",
       "         [ 1.34815840e-10,  1.97569725e-11, -1.29140631e-09,\n",
       "          -1.29783680e-09, -8.14280022e-11]]],\n",
       "\n",
       "\n",
       "       [[[-1.24783917e-09, -1.46465049e-09, -2.31637715e-09,\n",
       "          -1.49824944e-09, -9.65784452e-10],\n",
       "         [-1.27355147e-09, -1.27101883e-09, -1.08017474e-09,\n",
       "          -8.83903886e-10, -9.52170914e-10],\n",
       "         [ 1.12617406e-10, -2.27931590e-10, -7.87706551e-10,\n",
       "          -8.04330352e-10, -1.04977520e-09],\n",
       "         [-4.13294824e-10, -1.87076227e-10, -1.02646114e-09,\n",
       "          -1.28987894e-09, -1.39087593e-09],\n",
       "         [-4.50807452e-10, -8.05715882e-10, -1.29966447e-09,\n",
       "          -1.14053672e-09, -8.08858952e-10]]]])"
      ]
     },
     "execution_count": 27,
     "metadata": {},
     "output_type": "execute_result"
    }
   ],
   "source": [
    "model1.Conv1.W_grad"
   ]
  },
  {
   "cell_type": "code",
   "execution_count": 16,
   "metadata": {},
   "outputs": [],
   "source": [
    "model1.back_prop(grad)"
   ]
  },
  {
   "cell_type": "code",
   "execution_count": 13,
   "metadata": {},
   "outputs": [],
   "source": [
    "t = model.forward(x[1].reshape(1,1,28,28))"
   ]
  },
  {
   "cell_type": "code",
   "execution_count": 608,
   "metadata": {},
   "outputs": [],
   "source": [
    "model1 = LeNet()"
   ]
  },
  {
   "cell_type": "code",
   "execution_count": 9,
   "metadata": {},
   "outputs": [
    {
     "name": "stdout",
     "output_type": "stream",
     "text": [
      "get\n"
     ]
    }
   ],
   "source": [
    "model1.set_params(model.get_params())"
   ]
  },
  {
   "cell_type": "code",
   "execution_count": null,
   "metadata": {},
   "outputs": [],
   "source": [
    "model.fc3.W['value'] == model1.Output.Weight"
   ]
  },
  {
   "cell_type": "code",
   "execution_count": 11,
   "metadata": {},
   "outputs": [
    {
     "data": {
      "text/plain": [
       "array([[ 1.13605291e-11,  2.81847630e-11,  7.09720589e-12,\n",
       "        -3.01094245e-11, -2.17618869e-11, -2.36586596e-11,\n",
       "         2.75163649e-12,  1.94782353e-11, -4.14228129e-11,\n",
       "        -1.23027567e-11]])"
      ]
     },
     "execution_count": 11,
     "metadata": {},
     "output_type": "execute_result"
    }
   ],
   "source": [
    "model1.fit(x[1],1)"
   ]
  },
  {
   "cell_type": "code",
   "execution_count": 264,
   "metadata": {},
   "outputs": [],
   "source": [
    "model = LeNet()"
   ]
  },
  {
   "cell_type": "code",
   "execution_count": 14,
   "metadata": {},
   "outputs": [],
   "source": [
    "def softmax(y_pred,y):\n",
    "    batch_size ,_ = y_pred.shape\n",
    "    y_pred = y_pred / y_pred.max(axis=1)[:,None] #防止溢出\n",
    "    y_pred = np.exp(y_pred)\n",
    "    y_sum = y_pred.sum(axis = 1)\n",
    "    y_pred = y_pred/y_sum[:,None]\n",
    "    loss = -np.log(y_pred).T * y\n",
    "    loss = loss.sum()/batch_size\n",
    "    grad = y_pred - y.T\n",
    "    return loss,grad,y_pred\n"
   ]
  },
  {
   "cell_type": "code",
   "execution_count": 7,
   "metadata": {},
   "outputs": [],
   "source": [
    "x,y = data_convert(train_images, train_labels,60000,10)"
   ]
  },
  {
   "cell_type": "code",
   "execution_count": 180,
   "metadata": {},
   "outputs": [],
   "source": [
    "def shuffle_batch(batch_size):\n",
    "\n",
    "    index = np.random.randint(0,len(x),batch_size)\n",
    "    return x[index],y.T[index].T"
   ]
  },
  {
   "cell_type": "code",
   "execution_count": 182,
   "metadata": {},
   "outputs": [],
   "source": [
    "x_t,y_t = shuffle_batch(256)"
   ]
  },
  {
   "cell_type": "code",
   "execution_count": 591,
   "metadata": {},
   "outputs": [
    {
     "name": "stdout",
     "output_type": "stream",
     "text": [
      "2.4922092519987555\n",
      "2.511818798021163\n",
      "2.7562971539706056\n",
      "2.4833074903326406\n",
      "2.657285158486305\n",
      "2.568274031734236\n",
      "2.503898026234402\n"
     ]
    },
    {
     "name": "stderr",
     "output_type": "stream",
     "text": [
      "C:\\Users\\zxy08\\AppData\\Local\\Temp\\ipykernel_11792\\218091430.py:45: RuntimeWarning: overflow encountered in multiply\n",
      "  output_matrix[:, :, h, w] += np.sum(input_region * kernel, axis=(2, 3, 4))\n",
      "C:\\Users\\zxy08\\AppData\\Local\\Packages\\PythonSoftwareFoundation.Python.3.10_qbz5n2kfra8p0\\LocalCache\\local-packages\\Python310\\site-packages\\numpy\\core\\fromnumeric.py:86: RuntimeWarning: invalid value encountered in reduce\n",
      "  return ufunc.reduce(obj, axis, dtype, out, **passkwargs)\n",
      "C:\\Users\\zxy08\\AppData\\Local\\Temp\\ipykernel_11792\\4159533635.py:10: RuntimeWarning: invalid value encountered in multiply\n",
      "  return np.where(self.x > 0, 1, 0) * grad\n"
     ]
    },
    {
     "name": "stdout",
     "output_type": "stream",
     "text": [
      "nan\n",
      "nan\n",
      "nan\n"
     ]
    }
   ],
   "source": [
    "model = LeNet()\n",
    "for i in range(10):\n",
    "    x_test,y_test = shuffle_batch(256)\n",
    "    res = model.fit(x_test,256)\n",
    "    loss,grad,y_pred = softmax(res,y_test)\n",
    "    print(loss)\n",
    "    model.back_prop(grad)\n",
    "    model.update(0.001)\n",
    "    \n",
    "    "
   ]
  },
  {
   "cell_type": "code",
   "execution_count": 320,
   "metadata": {},
   "outputs": [],
   "source": [
    "x_test,y_test = shuffle_batch(x,y,256)\n",
    "res = model.fit(x_test,256)\n",
    "loss,grad,y_pred = softmax(res,y_test)"
   ]
  },
  {
   "cell_type": "code",
   "execution_count": 321,
   "metadata": {},
   "outputs": [
    {
     "data": {
      "text/plain": [
       "array([[nan, nan, nan, ..., nan, nan, nan],\n",
       "       [nan, nan, nan, ..., nan, nan, nan],\n",
       "       [nan, nan, nan, ..., nan, nan, nan],\n",
       "       ...,\n",
       "       [nan, nan, nan, ..., nan, nan, nan],\n",
       "       [nan, nan, nan, ..., nan, nan, nan],\n",
       "       [nan, nan, nan, ..., nan, nan, nan]])"
      ]
     },
     "execution_count": 321,
     "metadata": {},
     "output_type": "execute_result"
    }
   ],
   "source": [
    "y_pred"
   ]
  },
  {
   "cell_type": "code",
   "execution_count": 278,
   "metadata": {},
   "outputs": [],
   "source": [
    "test = np.random.randint(0,60000,256)"
   ]
  },
  {
   "cell_type": "code",
   "execution_count": 280,
   "metadata": {},
   "outputs": [
    {
     "data": {
      "text/plain": [
       "(256, 784)"
      ]
     },
     "execution_count": 280,
     "metadata": {},
     "output_type": "execute_result"
    }
   ],
   "source": [
    "x[test].shape"
   ]
  },
  {
   "cell_type": "code",
   "execution_count": 221,
   "metadata": {},
   "outputs": [],
   "source": [
    "model = LeNet()"
   ]
  },
  {
   "cell_type": "code",
   "execution_count": 222,
   "metadata": {},
   "outputs": [],
   "source": [
    "t = model.fit(train_images[0:500],500)"
   ]
  },
  {
   "cell_type": "code",
   "execution_count": 223,
   "metadata": {},
   "outputs": [
    {
     "data": {
      "text/plain": [
       "(10, 60000)"
      ]
     },
     "execution_count": 223,
     "metadata": {},
     "output_type": "execute_result"
    }
   ],
   "source": [
    "y.shape"
   ]
  },
  {
   "cell_type": "code",
   "execution_count": 234,
   "metadata": {},
   "outputs": [],
   "source": [
    "loss,grad,y_pred = softmax(t,y[:,0:500])"
   ]
  },
  {
   "cell_type": "code",
   "execution_count": 269,
   "metadata": {},
   "outputs": [],
   "source": [
    "model.back_prop(grad)"
   ]
  },
  {
   "cell_type": "code",
   "execution_count": 235,
   "metadata": {},
   "outputs": [
    {
     "data": {
      "text/plain": [
       "-1.3322676295501878e-15"
      ]
     },
     "execution_count": 235,
     "metadata": {},
     "output_type": "execute_result"
    }
   ],
   "source": [
    "grad.sum()"
   ]
  },
  {
   "cell_type": "code",
   "execution_count": 236,
   "metadata": {},
   "outputs": [],
   "source": [
    "grad = model.Output.backprop(grad)"
   ]
  },
  {
   "cell_type": "code",
   "execution_count": 238,
   "metadata": {},
   "outputs": [
    {
     "data": {
      "text/plain": [
       "(500, 84)"
      ]
     },
     "execution_count": 238,
     "metadata": {},
     "output_type": "execute_result"
    }
   ],
   "source": [
    "grad.shape"
   ]
  },
  {
   "cell_type": "code",
   "execution_count": 239,
   "metadata": {},
   "outputs": [],
   "source": [
    "grad = model.Relu4.backprop(grad)"
   ]
  },
  {
   "cell_type": "code",
   "execution_count": 241,
   "metadata": {},
   "outputs": [],
   "source": [
    "grad = model.Fc2.backprop(grad)"
   ]
  },
  {
   "cell_type": "code",
   "execution_count": 242,
   "metadata": {},
   "outputs": [],
   "source": [
    "grad = model.Relu3.backprop(grad)"
   ]
  },
  {
   "cell_type": "code",
   "execution_count": 243,
   "metadata": {},
   "outputs": [],
   "source": [
    "grad = model.Fc1.backprop(grad)"
   ]
  },
  {
   "cell_type": "code",
   "execution_count": 244,
   "metadata": {},
   "outputs": [],
   "source": [
    "grad = grad.reshape(grad.shape[0],16,4,4)"
   ]
  },
  {
   "cell_type": "code",
   "execution_count": 245,
   "metadata": {},
   "outputs": [],
   "source": [
    "grad = model.Pool2.backprop(grad)"
   ]
  },
  {
   "cell_type": "code",
   "execution_count": 246,
   "metadata": {},
   "outputs": [],
   "source": [
    "grad = model.Relu2.backprop(grad)"
   ]
  },
  {
   "cell_type": "code",
   "execution_count": 256,
   "metadata": {},
   "outputs": [
    {
     "data": {
      "text/plain": [
       "43847.29020596151"
      ]
     },
     "execution_count": 256,
     "metadata": {},
     "output_type": "execute_result"
    }
   ],
   "source": [
    "grad.sum()\n"
   ]
  },
  {
   "cell_type": "code",
   "execution_count": 248,
   "metadata": {},
   "outputs": [
    {
     "data": {
      "text/plain": [
       "(500, 16, 8, 8)"
      ]
     },
     "execution_count": 248,
     "metadata": {},
     "output_type": "execute_result"
    }
   ],
   "source": [
    "grad.shape"
   ]
  },
  {
   "cell_type": "code",
   "execution_count": 257,
   "metadata": {},
   "outputs": [],
   "source": [
    "grad_T = grad.copy()"
   ]
  },
  {
   "cell_type": "code",
   "execution_count": 258,
   "metadata": {},
   "outputs": [],
   "source": [
    "grad_T = model.Conv2.backprop(grad_T)"
   ]
  },
  {
   "cell_type": "code",
   "execution_count": 260,
   "metadata": {},
   "outputs": [
    {
     "data": {
      "text/plain": [
       "0.0"
      ]
     },
     "execution_count": 260,
     "metadata": {},
     "output_type": "execute_result"
    }
   ],
   "source": [
    "grad_T.sum()"
   ]
  },
  {
   "cell_type": "code",
   "execution_count": 264,
   "metadata": {},
   "outputs": [],
   "source": [
    "test = np.random.normal(size=(4,4,4,4))"
   ]
  },
  {
   "cell_type": "code",
   "execution_count": 245,
   "metadata": {},
   "outputs": [],
   "source": [
    "grad = model.Pool1.backprop(grad)"
   ]
  },
  {
   "cell_type": "code",
   "execution_count": 246,
   "metadata": {},
   "outputs": [],
   "source": [
    "grad = model.Relu1.backprop(grad)"
   ]
  },
  {
   "cell_type": "code",
   "execution_count": 247,
   "metadata": {},
   "outputs": [
    {
     "data": {
      "text/plain": [
       "(500, 6, 24, 24)"
      ]
     },
     "execution_count": 247,
     "metadata": {},
     "output_type": "execute_result"
    }
   ],
   "source": [
    "grad.shape"
   ]
  },
  {
   "cell_type": "code",
   "execution_count": 248,
   "metadata": {},
   "outputs": [
    {
     "ename": "UFuncTypeError",
     "evalue": "Cannot cast ufunc 'add' output from dtype('float64') to dtype('int32') with casting rule 'same_kind'",
     "output_type": "error",
     "traceback": [
      "\u001b[1;31m---------------------------------------------------------------------------\u001b[0m",
      "\u001b[1;31mUFuncTypeError\u001b[0m                            Traceback (most recent call last)",
      "Cell \u001b[1;32mIn[248], line 1\u001b[0m\n\u001b[1;32m----> 1\u001b[0m grad_T \u001b[38;5;241m=\u001b[39m \u001b[43mmodel\u001b[49m\u001b[38;5;241;43m.\u001b[39;49m\u001b[43mConv1\u001b[49m\u001b[38;5;241;43m.\u001b[39;49m\u001b[43mbackprop\u001b[49m\u001b[43m(\u001b[49m\u001b[43mgrad_T\u001b[49m\u001b[43m)\u001b[49m\n",
      "Cell \u001b[1;32mIn[213], line 73\u001b[0m, in \u001b[0;36mConv.backprop\u001b[1;34m(self, back_grad, learning_rate)\u001b[0m\n\u001b[0;32m     71\u001b[0m tmp_back_grad \u001b[38;5;241m=\u001b[39m back_grad[:, :, h, w]\u001b[38;5;241m.\u001b[39mreshape((N, \u001b[38;5;241m1\u001b[39m, \u001b[38;5;241m1\u001b[39m, \u001b[38;5;241m1\u001b[39m, \u001b[38;5;28mself\u001b[39m\u001b[38;5;241m.\u001b[39mout_channels))\n\u001b[0;32m     72\u001b[0m tmp_W \u001b[38;5;241m=\u001b[39m \u001b[38;5;28mself\u001b[39m\u001b[38;5;241m.\u001b[39mWeight\u001b[38;5;241m.\u001b[39mtranspose((\u001b[38;5;241m1\u001b[39m, \u001b[38;5;241m2\u001b[39m, \u001b[38;5;241m3\u001b[39m, \u001b[38;5;241m0\u001b[39m))\u001b[38;5;241m.\u001b[39mreshape((\u001b[38;5;241m1\u001b[39m, \u001b[38;5;28mself\u001b[39m\u001b[38;5;241m.\u001b[39min_channels, \u001b[38;5;28mself\u001b[39m\u001b[38;5;241m.\u001b[39mfilter_size, \u001b[38;5;28mself\u001b[39m\u001b[38;5;241m.\u001b[39mfilter_size, \u001b[38;5;28mself\u001b[39m\u001b[38;5;241m.\u001b[39mout_channels))\n\u001b[1;32m---> 73\u001b[0m grad[:, :, h \u001b[38;5;241m*\u001b[39m \u001b[38;5;28mself\u001b[39m\u001b[38;5;241m.\u001b[39mstride:h \u001b[38;5;241m*\u001b[39m \u001b[38;5;28mself\u001b[39m\u001b[38;5;241m.\u001b[39mstride \u001b[38;5;241m+\u001b[39m \u001b[38;5;28mself\u001b[39m\u001b[38;5;241m.\u001b[39mfilter_size, w \u001b[38;5;241m*\u001b[39m \u001b[38;5;28mself\u001b[39m\u001b[38;5;241m.\u001b[39mstride:w \u001b[38;5;241m*\u001b[39m \u001b[38;5;28mself\u001b[39m\u001b[38;5;241m.\u001b[39mstride \u001b[38;5;241m+\u001b[39m \u001b[38;5;28mself\u001b[39m\u001b[38;5;241m.\u001b[39mfilter_size] \u001b[38;5;241m+\u001b[39m\u001b[38;5;241m=\u001b[39m np\u001b[38;5;241m.\u001b[39msum(tmp_back_grad \u001b[38;5;241m*\u001b[39m tmp_W, axis\u001b[38;5;241m=\u001b[39m\u001b[38;5;241m4\u001b[39m)\n\u001b[0;32m     74\u001b[0m tmp_back_grad \u001b[38;5;241m=\u001b[39m back_grad[:, :, h, w]\u001b[38;5;241m.\u001b[39mT\u001b[38;5;241m.\u001b[39mreshape((\u001b[38;5;28mself\u001b[39m\u001b[38;5;241m.\u001b[39mout_channels, \u001b[38;5;241m1\u001b[39m, \u001b[38;5;241m1\u001b[39m, \u001b[38;5;241m1\u001b[39m, N))\n\u001b[0;32m     75\u001b[0m tmp_x \u001b[38;5;241m=\u001b[39m padding_x[:, :, h \u001b[38;5;241m*\u001b[39m \u001b[38;5;28mself\u001b[39m\u001b[38;5;241m.\u001b[39mstride:h \u001b[38;5;241m*\u001b[39m \u001b[38;5;28mself\u001b[39m\u001b[38;5;241m.\u001b[39mstride \u001b[38;5;241m+\u001b[39m \u001b[38;5;28mself\u001b[39m\u001b[38;5;241m.\u001b[39mfilter_size, w \u001b[38;5;241m*\u001b[39m \u001b[38;5;28mself\u001b[39m\u001b[38;5;241m.\u001b[39mstride:w \u001b[38;5;241m*\u001b[39m \u001b[38;5;28mself\u001b[39m\u001b[38;5;241m.\u001b[39mstride \u001b[38;5;241m+\u001b[39m \u001b[38;5;28mself\u001b[39m\u001b[38;5;241m.\u001b[39mfilter_size]\u001b[38;5;241m.\u001b[39mtranspose((\u001b[38;5;241m1\u001b[39m, \u001b[38;5;241m2\u001b[39m, \u001b[38;5;241m3\u001b[39m, \u001b[38;5;241m0\u001b[39m))\n",
      "\u001b[1;31mUFuncTypeError\u001b[0m: Cannot cast ufunc 'add' output from dtype('float64') to dtype('int32') with casting rule 'same_kind'"
     ]
    }
   ],
   "source": [
    "grad = model.Conv1.backprop(grad)"
   ]
  },
  {
   "cell_type": "code",
   "execution_count": 131,
   "metadata": {},
   "outputs": [],
   "source": [
    "mi = model.Pool2.input[:, :,2:4, 2:4].reshape(500,16, -1).argmax(axis=2)\n",
    "                "
   ]
  },
  {
   "cell_type": "code",
   "execution_count": 133,
   "metadata": {},
   "outputs": [
    {
     "data": {
      "text/plain": [
       "(500, 16)"
      ]
     },
     "execution_count": 133,
     "metadata": {},
     "output_type": "execute_result"
    }
   ],
   "source": [
    "mi.shape"
   ]
  },
  {
   "cell_type": "code",
   "execution_count": 95,
   "metadata": {},
   "outputs": [],
   "source": [
    "mt = model.Pool2.input[:,:,2:4,2:4].reshape(500,16,4)"
   ]
  },
  {
   "cell_type": "code",
   "execution_count": 102,
   "metadata": {},
   "outputs": [
    {
     "data": {
      "text/plain": [
       "(500, 16)"
      ]
     },
     "execution_count": 102,
     "metadata": {},
     "output_type": "execute_result"
    }
   ],
   "source": [
    "mt[np.arange(500)[:, np.newaxis], np.arange(16), mi].shape"
   ]
  },
  {
   "cell_type": "code",
   "execution_count": 85,
   "metadata": {},
   "outputs": [
    {
     "data": {
      "text/plain": [
       "array([[[[ 9.86711572,  0.        ],\n",
       "         [ 1.51915339, 21.21100715]],\n",
       "\n",
       "        [[ 7.65888681, 30.15070413],\n",
       "         [ 0.        , 33.16707785]],\n",
       "\n",
       "        [[30.37715686, 33.70428073],\n",
       "         [32.94276686, 32.43304771]],\n",
       "\n",
       "        ...,\n",
       "\n",
       "        [[ 0.        ,  0.        ],\n",
       "         [ 7.17809404,  0.        ]],\n",
       "\n",
       "        [[16.20247357,  0.        ],\n",
       "         [29.6646568 , 11.52468127]],\n",
       "\n",
       "        [[11.73594983,  7.67706397],\n",
       "         [11.92821407,  8.95725976]]],\n",
       "\n",
       "\n",
       "       [[[ 6.17965717,  0.        ],\n",
       "         [ 0.        ,  0.        ]],\n",
       "\n",
       "        [[ 0.        ,  7.56332347],\n",
       "         [15.63301541, 19.54469505]],\n",
       "\n",
       "        [[18.04512809, 28.56861855],\n",
       "         [ 0.        , 47.38906657]],\n",
       "\n",
       "        ...,\n",
       "\n",
       "        [[ 2.83754295,  0.        ],\n",
       "         [ 0.        ,  1.54956409]],\n",
       "\n",
       "        [[ 0.        ,  3.89271246],\n",
       "         [ 0.        ,  0.        ]],\n",
       "\n",
       "        [[ 0.        , 14.75062209],\n",
       "         [ 4.23649145, 23.78524426]]],\n",
       "\n",
       "\n",
       "       [[[17.66890572, 15.24785235],\n",
       "         [ 8.70625282,  0.        ]],\n",
       "\n",
       "        [[22.01710167,  0.        ],\n",
       "         [14.32020333,  0.        ]],\n",
       "\n",
       "        [[17.48347232, 31.64688893],\n",
       "         [ 6.62655998, 35.27355895]],\n",
       "\n",
       "        ...,\n",
       "\n",
       "        [[ 0.        ,  0.        ],\n",
       "         [ 0.        , 26.33419597]],\n",
       "\n",
       "        [[ 0.        ,  0.        ],\n",
       "         [ 0.        ,  0.        ]],\n",
       "\n",
       "        [[28.43552878, 28.80165511],\n",
       "         [11.34045238, 16.68608296]]],\n",
       "\n",
       "\n",
       "       ...,\n",
       "\n",
       "\n",
       "       [[[ 5.75683551,  8.12270569],\n",
       "         [16.79017689, 20.16973719]],\n",
       "\n",
       "        [[17.0213946 , 26.04795306],\n",
       "         [ 3.81868534,  4.92960927]],\n",
       "\n",
       "        [[13.64720141,  8.55199617],\n",
       "         [33.68545899, 20.22581881]],\n",
       "\n",
       "        ...,\n",
       "\n",
       "        [[37.5376541 ,  0.        ],\n",
       "         [ 0.        ,  0.        ]],\n",
       "\n",
       "        [[16.81736549, 29.79104212],\n",
       "         [13.35422593, 14.46884138]],\n",
       "\n",
       "        [[ 7.46892209,  0.        ],\n",
       "         [ 5.62646061,  5.30226933]]],\n",
       "\n",
       "\n",
       "       [[[19.68300705, 20.43659825],\n",
       "         [ 5.04563418, 14.11199145]],\n",
       "\n",
       "        [[14.59556887, 36.74184676],\n",
       "         [18.73459515, 20.86728627]],\n",
       "\n",
       "        [[23.75601615,  7.8840504 ],\n",
       "         [16.04803877, 43.81430483]],\n",
       "\n",
       "        ...,\n",
       "\n",
       "        [[ 6.00940543,  0.        ],\n",
       "         [ 0.64181527,  0.        ]],\n",
       "\n",
       "        [[13.25225196,  0.        ],\n",
       "         [19.48692268, 14.62631784]],\n",
       "\n",
       "        [[ 0.        ,  0.        ],\n",
       "         [ 1.90756071, 19.60783974]]],\n",
       "\n",
       "\n",
       "       [[[ 9.96646246, 25.09097172],\n",
       "         [12.38855659, 34.33544709]],\n",
       "\n",
       "        [[36.25687167, 13.98978947],\n",
       "         [ 5.33665157, 17.56754127]],\n",
       "\n",
       "        [[13.17101648,  6.37256165],\n",
       "         [ 9.48193371,  4.3563617 ]],\n",
       "\n",
       "        ...,\n",
       "\n",
       "        [[ 5.21780542,  0.        ],\n",
       "         [ 3.67057756,  0.        ]],\n",
       "\n",
       "        [[24.40902278,  3.30482059],\n",
       "         [ 6.63572526,  0.        ]],\n",
       "\n",
       "        [[ 0.        ,  7.27820304],\n",
       "         [ 0.        ,  0.        ]]]])"
      ]
     },
     "execution_count": 85,
     "metadata": {},
     "output_type": "execute_result"
    }
   ],
   "source": [
    "model.Pool2.input[:,:,2:4,2:4]"
   ]
  },
  {
   "cell_type": "code",
   "execution_count": 108,
   "metadata": {},
   "outputs": [
    {
     "data": {
      "text/plain": [
       "array([[-1.79257543e+01, -2.53911295e+01,  1.23671979e+01, ...,\n",
       "        -1.59201843e+00, -7.01397059e+01, -3.28906994e+01],\n",
       "       [ 2.98740904e+01, -3.12921181e+00,  2.88165821e+01, ...,\n",
       "         1.48594720e+00,  7.61223499e+01, -2.62200688e+01],\n",
       "       [ 7.06003224e+00, -2.41324059e+01,  1.92353741e+01, ...,\n",
       "         1.57584522e+01, -3.25260191e+01, -3.00504193e+01],\n",
       "       ...,\n",
       "       [ 3.09714979e+01,  1.05840733e+02,  5.71238819e+01, ...,\n",
       "        -4.31135078e+00,  5.47352759e+01,  6.78577106e+01],\n",
       "       [-1.37619080e+02,  9.58543493e+01,  6.92735236e+01, ...,\n",
       "        -4.34110019e+01, -3.97469715e+01, -1.88472771e-02],\n",
       "       [-3.60705859e+01, -2.15855608e+01,  6.22782318e+01, ...,\n",
       "         9.22443336e+00, -4.72492595e+01,  5.16671019e+01]])"
      ]
     },
     "execution_count": 108,
     "metadata": {},
     "output_type": "execute_result"
    }
   ],
   "source": [
    "grad[:,:,2,3]"
   ]
  },
  {
   "cell_type": "code",
   "execution_count": 86,
   "metadata": {},
   "outputs": [
    {
     "ename": "SyntaxError",
     "evalue": "'function call' is an illegal expression for augmented assignment (1860721356.py, line 1)",
     "output_type": "error",
     "traceback": [
      "\u001b[1;36m  Cell \u001b[1;32mIn[86], line 1\u001b[1;36m\u001b[0m\n\u001b[1;33m    model.Pool2.input[:,:,2:4,2:4].reshape(model.Pool2.input.shape[0], model.Pool2.input.shape[1], 4).max(axis=2)+=1\u001b[0m\n\u001b[1;37m    ^\u001b[0m\n\u001b[1;31mSyntaxError\u001b[0m\u001b[1;31m:\u001b[0m 'function call' is an illegal expression for augmented assignment\n"
     ]
    }
   ],
   "source": [
    "model.Pool2.input[:,:,2:4,2:4].reshape(model.Pool2.input.shape[0], model.Pool2.input.shape[1], 4).max(axis=2)"
   ]
  },
  {
   "cell_type": "code",
   "execution_count": 21,
   "metadata": {},
   "outputs": [
    {
     "ename": "ValueError",
     "evalue": "not enough values to unpack (expected 4, got 2)",
     "output_type": "error",
     "traceback": [
      "\u001b[1;31m---------------------------------------------------------------------------\u001b[0m",
      "\u001b[1;31mValueError\u001b[0m                                Traceback (most recent call last)",
      "Cell \u001b[1;32mIn[21], line 1\u001b[0m\n\u001b[1;32m----> 1\u001b[0m grad_T \u001b[38;5;241m=\u001b[39m \u001b[43mmodel\u001b[49m\u001b[38;5;241;43m.\u001b[39;49m\u001b[43mPool2\u001b[49m\u001b[38;5;241;43m.\u001b[39;49m\u001b[43mbackprop\u001b[49m\u001b[43m(\u001b[49m\u001b[43mgrad_T\u001b[49m\u001b[43m)\u001b[49m\n",
      "Cell \u001b[1;32mIn[7], line 21\u001b[0m, in \u001b[0;36mMaxPool.backprop\u001b[1;34m(self, back_grad)\u001b[0m\n\u001b[0;32m     20\u001b[0m \u001b[38;5;28;01mdef\u001b[39;00m \u001b[38;5;21mbackprop\u001b[39m(\u001b[38;5;28mself\u001b[39m, back_grad):\n\u001b[1;32m---> 21\u001b[0m     N, C, H,W \u001b[38;5;241m=\u001b[39m back_grad\u001b[38;5;241m.\u001b[39mshape\n\u001b[0;32m     22\u001b[0m     grad_next \u001b[38;5;241m=\u001b[39m np\u001b[38;5;241m.\u001b[39mzeros_like(\u001b[38;5;28mself\u001b[39m\u001b[38;5;241m.\u001b[39minput)\n\u001b[0;32m     24\u001b[0m     \u001b[38;5;28;01mfor\u001b[39;00m i \u001b[38;5;129;01min\u001b[39;00m \u001b[38;5;28mrange\u001b[39m(H):\n",
      "\u001b[1;31mValueError\u001b[0m: not enough values to unpack (expected 4, got 2)"
     ]
    }
   ],
   "source": [
    "grad = model.Pool2.backprop(grad)"
   ]
  },
  {
   "cell_type": "markdown",
   "metadata": {},
   "source": []
  },
  {
   "cell_type": "code",
   "execution_count": 433,
   "metadata": {},
   "outputs": [],
   "source": [
    "m, n = train_images.shape #(60000,784),28*28 image\n",
    "    # data processing\n",
    "x, y = data_convert(train_images, train_labels, m, 10) # x:[m,n], y:[1,m]"
   ]
  }
 ],
 "metadata": {
  "kernelspec": {
   "display_name": "Python 3",
   "language": "python",
   "name": "python3"
  },
  "language_info": {
   "codemirror_mode": {
    "name": "ipython",
    "version": 3
   },
   "file_extension": ".py",
   "mimetype": "text/x-python",
   "name": "python",
   "nbconvert_exporter": "python",
   "pygments_lexer": "ipython3",
   "version": "3.10.11"
  }
 },
 "nbformat": 4,
 "nbformat_minor": 2
}
